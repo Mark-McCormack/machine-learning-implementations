{
 "cells": [
  {
   "cell_type": "code",
   "execution_count": 1,
   "metadata": {},
   "outputs": [],
   "source": [
    "import random\n",
    "import numpy as np"
   ]
  },
  {
   "cell_type": "code",
   "execution_count": 2,
   "metadata": {},
   "outputs": [],
   "source": [
    "def generation(size, length):\n",
    "    population = []\n",
    "\n",
    "    for i in range(size):\n",
    "        member = \"\"\n",
    "        for j in range(length):\n",
    "            member += str(random.randint(0, 1))\n",
    "\n",
    "        population.append(member)\n",
    " \n",
    "    return population"
   ]
  },
  {
   "cell_type": "code",
   "execution_count": 3,
   "metadata": {},
   "outputs": [],
   "source": [
    "def fitnessSum(member):\n",
    "    total = 0\n",
    "\n",
    "    for i in member:\n",
    "        total += int(i)\n",
    "\n",
    "    return total\n",
    "\n",
    "def fitnessString(member):\n",
    "    total = 0\n",
    "\n",
    "    for i in member:\n",
    "        total += int(i)\n",
    "\n",
    "    return total\n"
   ]
  },
  {
   "cell_type": "code",
   "execution_count": 9,
   "metadata": {},
   "outputs": [],
   "source": [
    "def sort(population):\n",
    "    for i in range(len(population)):\n",
    "        for j in range(len(population) - 1):\n",
    "            if fitnessSum(population[j]) > fitnessSum(population[j+1]):\n",
    "                population[j], population[j+1] = population[j+1], population[j]\n",
    "        \n",
    "    return population"
   ]
  },
  {
   "cell_type": "code",
   "execution_count": 5,
   "metadata": {},
   "outputs": [],
   "source": [
    "def selection(population, size):\n",
    "    population = sort(population)\n",
    "    return population[-size:]"
   ]
  },
  {
   "cell_type": "code",
   "execution_count": 6,
   "metadata": {},
   "outputs": [],
   "source": [
    "def mutation(population):\n",
    "    for i in range(len(population)):\n",
    "        for j in range(len(population[i])):\n",
    "            chance = random.randint(1,10)\n",
    "            current = []\n",
    "\n",
    "            if(chance > 9 and list(population[i])[j] == '0'):\n",
    "\n",
    "                current = list(population[i])\n",
    "                current[j] = '1'\n",
    "                population[i] = ''.join(current)\n",
    "\n",
    "            elif(chance > 9 and list(population[i])[j] == '1'):\n",
    "\n",
    "                current = list(population[i])\n",
    "                current[j] = '0'\n",
    "                population[i] = ''.join(current)\n",
    "        \n",
    "    return population"
   ]
  },
  {
   "cell_type": "code",
   "execution_count": 7,
   "metadata": {},
   "outputs": [],
   "source": [
    "def crossover(population):\n",
    "    for i in range(int(len(population)/2)):\n",
    "        for j in range(len(population[i])):\n",
    "            chance = random.randint(1,10)\n",
    "\n",
    "            if(chance > 5):\n",
    "\n",
    "                parentOne = list(population[i])\n",
    "                parentTwo = list(population[i+1])\n",
    "\n",
    "                parentOne[j], parentTwo[j] = parentTwo[j], parentOne[j]\n",
    "\n",
    "                population[i] = ''.join(parentOne)\n",
    "                population[i+1] = ''.join(parentTwo)\n",
    "\n",
    "\n",
    "    return population"
   ]
  },
  {
   "cell_type": "code",
   "execution_count": 11,
   "metadata": {},
   "outputs": [
    {
     "name": "stdout",
     "output_type": "stream",
     "text": [
      "\n",
      "================================================================ SELECTED =================================\n",
      "['01011111', '01011111', '11111010', '11001111', '11101101', '11101101', '11011101', '11110111', '11111101', '11111111']\n",
      "\n",
      "================================================================ MUTATION =================================\n",
      "['01011111', '11111110', '11111010', '10001111', '11101111', '11101101', '10011101', '11110111', '11111101', '11111110']\n",
      "\n",
      "================================================================ CROSSOVER =================================\n",
      "['11011110', '01111110', '10101011', '11111111', '11001111', '11101101', '10011101', '11110111', '11111101', '11111110']\n",
      "11111111\n",
      "No Results: Cycle 1\n"
     ]
    }
   ],
   "source": [
    "currentPopulation = generation(100, 8)\n",
    "\n",
    "answer = False\n",
    "counter = 0\n",
    "\n",
    "while(answer != True):\n",
    "    print()\n",
    "    print('================================================================ SELECTED =================================')\n",
    "    selectedPopulation = selection(currentPopulation, 10)\n",
    "    print(selectedPopulation)\n",
    "\n",
    "    print()\n",
    "    print('================================================================ MUTATION =================================')\n",
    "    mutatedPopulation = mutation(selectedPopulation)\n",
    "    print(mutatedPopulation)\n",
    "\n",
    "    print()\n",
    "    print('================================================================ CROSSOVER =================================')\n",
    "    crossoverPopulation = crossover(mutatedPopulation)\n",
    "    print(crossoverPopulation)\n",
    "\n",
    "    for item in crossoverPopulation:\n",
    "        if(fitnessSum(item) > 7):\n",
    "            print(item)\n",
    "            answer = True\n",
    "\n",
    "    counter += 1\n",
    "    print('No Results: Cycle ' + str(counter))"
   ]
  }
 ],
 "metadata": {
  "kernelspec": {
   "display_name": "Machine_Learning_Example",
   "language": "python",
   "name": "python3"
  },
  "language_info": {
   "codemirror_mode": {
    "name": "ipython",
    "version": 3
   },
   "file_extension": ".py",
   "mimetype": "text/x-python",
   "name": "python",
   "nbconvert_exporter": "python",
   "pygments_lexer": "ipython3",
   "version": "3.9.7"
  },
  "orig_nbformat": 4,
  "vscode": {
   "interpreter": {
    "hash": "d3a4fe9e6fef9dea9dbb6abf30e1226fa42848af699b312eb44520386fc2086f"
   }
  }
 },
 "nbformat": 4,
 "nbformat_minor": 2
}
