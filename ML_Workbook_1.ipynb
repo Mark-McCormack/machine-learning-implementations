{
 "cells": [
  {
   "cell_type": "code",
   "execution_count": 1,
   "metadata": {},
   "outputs": [],
   "source": [
    "# Importing tools for our neural network\n",
    "import numpy as np\n",
    "from tensorflow import keras as keras\n",
    "\n",
    "# Importing the architecture and layers we will be using\n",
    "from keras.models import Sequential\n",
    "from keras.layers import Dense\n",
    "\n",
    "# Importing the dataset we will be analyzing\n",
    "from keras.datasets import mnist\n",
    "\n",
    "# Importing the utility to convert the labels to one-hot encoding\n",
    "from keras.utils import np_utils\n",
    "import tensorflow as tf\n",
    "import datetime"
   ]
  },
  {
   "cell_type": "code",
   "execution_count": 2,
   "metadata": {},
   "outputs": [],
   "source": [
    "# Load MNIST dataset\n",
    "(X_train, y_train), (X_test, y_test) = mnist.load_data()\n",
    "\n",
    "# Preprocess data (Create 60000 Rows of 784 Pixel Images)\n",
    "X_train = X_train.reshape(60000, 784).astype('float32') / 255.0\n",
    "X_test = X_test.reshape(10000, 784).astype('float32') / 255.0\n",
    "\n",
    "# Performs One-Hot Encoding (Converts catagorical data into a binary representation)\n",
    "y_train = np_utils.to_categorical(y_train, 10)\n",
    "y_test = np_utils.to_categorical(y_test, 10)"
   ]
  },
  {
   "cell_type": "code",
   "execution_count": 3,
   "metadata": {},
   "outputs": [
    {
     "name": "stderr",
     "output_type": "stream",
     "text": [
      "2023-04-22 10:38:36.953628: I tensorflow/core/platform/cpu_feature_guard.cc:142] This TensorFlow binary is optimized with oneAPI Deep Neural Network Library (oneDNN) to use the following CPU instructions in performance-critical operations:  SSE4.1 SSE4.2 AVX AVX2 FMA\n",
      "To enable them in other operations, rebuild TensorFlow with the appropriate compiler flags.\n",
      "2023-04-22 10:38:37.197840: I tensorflow/core/profiler/lib/profiler_session.cc:131] Profiler session initializing.\n",
      "2023-04-22 10:38:37.197864: I tensorflow/core/profiler/lib/profiler_session.cc:146] Profiler session started.\n",
      "2023-04-22 10:38:37.198040: I tensorflow/core/profiler/lib/profiler_session.cc:164] Profiler session tear down.\n",
      "2023-04-22 10:38:38.652147: I tensorflow/compiler/mlir/mlir_graph_optimization_pass.cc:185] None of the MLIR Optimization Passes are enabled (registered 2)\n"
     ]
    },
    {
     "name": "stdout",
     "output_type": "stream",
     "text": [
      "Epoch 1/10\n",
      " 15/469 [..............................] - ETA: 5s - loss: 1.2519 - accuracy: 0.6672"
     ]
    },
    {
     "name": "stderr",
     "output_type": "stream",
     "text": [
      "2023-04-22 10:38:39.324062: I tensorflow/core/profiler/lib/profiler_session.cc:131] Profiler session initializing.\n",
      "2023-04-22 10:38:39.324102: I tensorflow/core/profiler/lib/profiler_session.cc:146] Profiler session started.\n",
      "2023-04-22 10:38:39.333063: I tensorflow/core/profiler/lib/profiler_session.cc:66] Profiler session collecting data.\n",
      "2023-04-22 10:38:39.340863: I tensorflow/core/profiler/lib/profiler_session.cc:164] Profiler session tear down.\n",
      "2023-04-22 10:38:39.353337: I tensorflow/core/profiler/rpc/client/save_profile.cc:136] Creating directory: logs/fit/20230422-103837/train/plugins/profile/2023_04_22_10_38_39\n",
      "\n",
      "2023-04-22 10:38:39.354635: I tensorflow/core/profiler/rpc/client/save_profile.cc:142] Dumped gzipped tool data for trace.json.gz to logs/fit/20230422-103837/train/plugins/profile/2023_04_22_10_38_39/Marks-MacBook-Pro.local.trace.json.gz\n",
      "2023-04-22 10:38:39.363808: I tensorflow/core/profiler/rpc/client/save_profile.cc:136] Creating directory: logs/fit/20230422-103837/train/plugins/profile/2023_04_22_10_38_39\n",
      "\n",
      "2023-04-22 10:38:39.364305: I tensorflow/core/profiler/rpc/client/save_profile.cc:142] Dumped gzipped tool data for memory_profile.json.gz to logs/fit/20230422-103837/train/plugins/profile/2023_04_22_10_38_39/Marks-MacBook-Pro.local.memory_profile.json.gz\n",
      "2023-04-22 10:38:39.366231: I tensorflow/core/profiler/rpc/client/capture_profile.cc:251] Creating directory: logs/fit/20230422-103837/train/plugins/profile/2023_04_22_10_38_39\n",
      "Dumped tool data for xplane.pb to logs/fit/20230422-103837/train/plugins/profile/2023_04_22_10_38_39/Marks-MacBook-Pro.local.xplane.pb\n",
      "Dumped tool data for overview_page.pb to logs/fit/20230422-103837/train/plugins/profile/2023_04_22_10_38_39/Marks-MacBook-Pro.local.overview_page.pb\n",
      "Dumped tool data for input_pipeline.pb to logs/fit/20230422-103837/train/plugins/profile/2023_04_22_10_38_39/Marks-MacBook-Pro.local.input_pipeline.pb\n",
      "Dumped tool data for tensorflow_stats.pb to logs/fit/20230422-103837/train/plugins/profile/2023_04_22_10_38_39/Marks-MacBook-Pro.local.tensorflow_stats.pb\n",
      "Dumped tool data for kernel_stats.pb to logs/fit/20230422-103837/train/plugins/profile/2023_04_22_10_38_39/Marks-MacBook-Pro.local.kernel_stats.pb\n",
      "\n"
     ]
    },
    {
     "name": "stdout",
     "output_type": "stream",
     "text": [
      "469/469 [==============================] - 4s 8ms/step - loss: 0.2267 - accuracy: 0.9343 - val_loss: 0.1061 - val_accuracy: 0.9669\n",
      "Epoch 2/10\n",
      "469/469 [==============================] - 3s 7ms/step - loss: 0.0839 - accuracy: 0.9748 - val_loss: 0.0968 - val_accuracy: 0.9711\n",
      "Epoch 3/10\n",
      "469/469 [==============================] - 3s 7ms/step - loss: 0.0537 - accuracy: 0.9832 - val_loss: 0.0715 - val_accuracy: 0.9759\n",
      "Epoch 4/10\n",
      "469/469 [==============================] - 3s 7ms/step - loss: 0.0386 - accuracy: 0.9876 - val_loss: 0.0678 - val_accuracy: 0.9778\n",
      "Epoch 5/10\n",
      "469/469 [==============================] - 3s 7ms/step - loss: 0.0277 - accuracy: 0.9912 - val_loss: 0.0757 - val_accuracy: 0.9770\n",
      "Epoch 6/10\n",
      "469/469 [==============================] - 4s 8ms/step - loss: 0.0217 - accuracy: 0.9925 - val_loss: 0.0746 - val_accuracy: 0.9786\n",
      "Epoch 7/10\n",
      "469/469 [==============================] - 4s 8ms/step - loss: 0.0189 - accuracy: 0.9938 - val_loss: 0.0688 - val_accuracy: 0.9811\n",
      "Epoch 8/10\n",
      "469/469 [==============================] - 4s 8ms/step - loss: 0.0163 - accuracy: 0.9945 - val_loss: 0.0810 - val_accuracy: 0.9781\n",
      "Epoch 9/10\n",
      "469/469 [==============================] - 4s 9ms/step - loss: 0.0159 - accuracy: 0.9945 - val_loss: 0.0762 - val_accuracy: 0.9798\n",
      "Epoch 10/10\n",
      "469/469 [==============================] - 4s 9ms/step - loss: 0.0123 - accuracy: 0.9958 - val_loss: 0.0875 - val_accuracy: 0.9787\n"
     ]
    },
    {
     "name": "stderr",
     "output_type": "stream",
     "text": [
      "UsageError: Line magic function `%tensorboard` not found.\n"
     ]
    }
   ],
   "source": [
    "model = Sequential()\n",
    "model.add(Dense(512, activation='relu', input_shape=(784,)))\n",
    "model.add(Dense(256, activation='relu'))\n",
    "model.add(Dense(10, activation='sigmoid'))\n",
    "\n",
    "# Compile model\n",
    "model.compile(loss='categorical_crossentropy', optimizer='adam', metrics=['accuracy'])\n",
    "\n",
    "log_dir = \"logs/fit/\" + datetime.datetime.now().strftime(\"%Y%m%d-%H%M%S\")\n",
    "tensorboard_callback = tf.keras.callbacks.TensorBoard(log_dir=log_dir, histogram_freq=1)\n",
    "\n",
    "# Train model\n",
    "model.fit(X_train, y_train, validation_data=(X_test, y_test), epochs=10, batch_size=128, callbacks=[tensorboard_callback])\n",
    "%tensorboard --logdir logs/fit --host localhost --port 8088\n",
    "\n",
    "\n",
    "# Evaluate model\n",
    "score = model.evaluate(X_test, y_test, verbose=0)\n",
    "print('Test accuracy:', score[1])"
   ]
  }
 ],
 "metadata": {
  "kernelspec": {
   "display_name": "Machine_Learning_Example",
   "language": "python",
   "name": "python3"
  },
  "language_info": {
   "codemirror_mode": {
    "name": "ipython",
    "version": 3
   },
   "file_extension": ".py",
   "mimetype": "text/x-python",
   "name": "python",
   "nbconvert_exporter": "python",
   "pygments_lexer": "ipython3",
   "version": "3.9.7"
  },
  "orig_nbformat": 4,
  "vscode": {
   "interpreter": {
    "hash": "d3a4fe9e6fef9dea9dbb6abf30e1226fa42848af699b312eb44520386fc2086f"
   }
  }
 },
 "nbformat": 4,
 "nbformat_minor": 2
}
